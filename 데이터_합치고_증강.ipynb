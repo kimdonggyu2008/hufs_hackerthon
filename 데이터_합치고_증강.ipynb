{
  "nbformat": 4,
  "nbformat_minor": 0,
  "metadata": {
    "colab": {
      "provenance": [],
      "gpuType": "T4",
      "mount_file_id": "1pHDjz_mGWNbjAl24GIjSmwKxtkgoWK5q",
      "authorship_tag": "ABX9TyMjvOk3TugsI7V/enuZKhaQ",
      "include_colab_link": true
    },
    "kernelspec": {
      "name": "python3",
      "display_name": "Python 3"
    },
    "language_info": {
      "name": "python"
    },
    "accelerator": "GPU"
  },
  "cells": [
    {
      "cell_type": "markdown",
      "metadata": {
        "id": "view-in-github",
        "colab_type": "text"
      },
      "source": [
        "<a href=\"https://colab.research.google.com/github/kimdonggyu2008/hufs_hackerthon/blob/main/%EB%8D%B0%EC%9D%B4%ED%84%B0_%ED%95%A9%EC%B9%98%EA%B3%A0_%EC%A6%9D%EA%B0%95.ipynb\" target=\"_parent\"><img src=\"https://colab.research.google.com/assets/colab-badge.svg\" alt=\"Open In Colab\"/></a>"
      ]
    },
    {
      "cell_type": "code",
      "execution_count": 1,
      "metadata": {
        "colab": {
          "base_uri": "https://localhost:8080/"
        },
        "id": "_n09GfvSt2hj",
        "outputId": "1f5c503b-c2d5-4f01-f887-50ff2b2521fa"
      },
      "outputs": [
        {
          "output_type": "stream",
          "name": "stderr",
          "text": [
            "[nltk_data] Downloading package wordnet to /root/nltk_data...\n"
          ]
        },
        {
          "output_type": "execute_result",
          "data": {
            "text/plain": [
              "True"
            ]
          },
          "metadata": {},
          "execution_count": 1
        }
      ],
      "source": [
        "import nltk\n",
        "from nltk.corpus import wordnet\n",
        "from sklearn.utils import resample\n",
        "\n",
        "# nltk 데이터 다운로드 (한 번만 실행 필요)\n",
        "nltk.download('wordnet')"
      ]
    },
    {
      "cell_type": "code",
      "source": [
        "import pandas as pd\n",
        "import random\n",
        "from sklearn.utils import resample\n",
        "\n",
        "# 데이터 로드\n",
        "train = pd.read_csv('/content/drive/MyDrive/코딩공부/dacon_project/data/train.csv')\n",
        "\n",
        "def shuffle_sentences(text):\n",
        "    sentences = text.split('.')  # 문장을 마침표로 분리\n",
        "    random.shuffle(sentences)     # 문장 순서를 무작위로 섞기\n",
        "    return '.'.join(sentences)\n",
        "\n",
        "# 기사와 키워드 2개씩 합치기\n",
        "def combine_articles(df):\n",
        "    combined_data = []\n",
        "\n",
        "    for category in df['분류'].unique():\n",
        "        category_data = df[df['분류'] == category].reset_index(drop=True)\n",
        "\n",
        "        # 5개씩 묶어서 합치기\n",
        "        for i in range(0, len(category_data), 2):\n",
        "            combined_title = \" \".join(category_data['제목'][i:i+2])\n",
        "            combined_keywords = \",\".join(category_data['키워드'][i:i+2])\n",
        "            combined_entry = {\n",
        "                '분류': category,\n",
        "                '제목': combined_title,\n",
        "                '키워드': combined_keywords\n",
        "            }\n",
        "            combined_data.append(combined_entry)\n",
        "\n",
        "    return pd.DataFrame(combined_data)\n",
        "\n",
        "# 카테고리별로 5개씩 합친 데이터프레임 생성\n",
        "combined_df = combine_articles(train)\n",
        "\n",
        "#데이터 증강\n",
        "def augment_data(df, target_count=200):\n",
        "    augmented_df = df.copy()\n",
        "\n",
        "    # 각 카테고리별로 데이터 증강\n",
        "    for category in df['분류'].unique():\n",
        "        category_data = augmented_df[augmented_df['분류'] == category]\n",
        "        current_count = len(category_data)\n",
        "\n",
        "        # 200개 미만이면 증강\n",
        "        if current_count < target_count:\n",
        "            additional_samples_needed = target_count - current_count\n",
        "            augmented_entries = resample(category_data, replace=True, n_samples=additional_samples_needed, random_state=42)\n",
        "\n",
        "            augmented_entries['제목'] = augmented_entries['제목'].apply(shuffle_sentences)\n",
        "            augmented_entries['키워드'] = augmented_entries['키워드'].apply(shuffle_sentences)\n",
        "\n",
        "            augmented_df = pd.concat([augmented_df, augmented_entries], ignore_index=True)\n",
        "\n",
        "    return augmented_df\n",
        "\n",
        "\n",
        "combined_df = combine_articles(train)\n",
        "\n",
        "# 각 카테고리 당 최소 50개로 증강 (문장 순서 변경 포함)\n",
        "augmented_df = augment_data(combined_df, target_count=200)\n",
        "\n",
        "# 카테고리별로 10000개가 넘는 경우 5000개로 줄이기\n",
        "def reduce_large_categories(df, max_count=7000, threshold=10000):\n",
        "    reduced_df = pd.DataFrame()\n",
        "\n",
        "    for category in df['분류'].unique():\n",
        "        category_data = df[df['분류'] == category]\n",
        "        if len(category_data) > threshold:\n",
        "            # 10000개가 넘는 경우, 랜덤으로 5000개 선택\n",
        "            category_data = resample(category_data, replace=False, n_samples=max_count, random_state=42)\n",
        "        reduced_df = pd.concat([reduced_df, category_data], ignore_index=True)\n",
        "\n",
        "    return reduced_df\n",
        "\n",
        "# 카테고리 별로 10000개가 넘는 경우 5000개로 줄이기\n",
        "final_df = reduce_large_categories(augmented_df, max_count=10000, threshold=10000)\n",
        "\n",
        "# 줄인 데이터 확인\n",
        "print(augmented_df['분류'].value_counts())\n",
        "# 증강된 데이터 저장 (선택 사항)\n",
        "augmented_df.to_csv('/content/drive/MyDrive/코딩공부/dacon_project/data/train_augmented_combined6.csv', index=False)\n"
      ],
      "metadata": {
        "id": "0CFWPhUZvjC7"
      },
      "execution_count": null,
      "outputs": []
    },
    {
      "cell_type": "code",
      "source": [],
      "metadata": {
        "id": "k9bGrRQuwpow"
      },
      "execution_count": null,
      "outputs": []
    }
  ]
}